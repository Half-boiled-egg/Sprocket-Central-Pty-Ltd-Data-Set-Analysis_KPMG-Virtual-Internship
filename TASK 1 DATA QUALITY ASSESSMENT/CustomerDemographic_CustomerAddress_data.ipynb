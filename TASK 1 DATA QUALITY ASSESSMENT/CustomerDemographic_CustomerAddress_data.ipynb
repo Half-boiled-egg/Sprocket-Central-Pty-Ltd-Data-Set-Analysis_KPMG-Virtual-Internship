{
 "cells": [
  {
   "cell_type": "markdown",
   "id": "1539bcca",
   "metadata": {},
   "source": [
    "# TASK: 1 - Data Quality Assessment\n",
    "### Assessment of data quality and completeness in preparation for analysis.\n",
    "(**Customer Demographic and Customer Address data in the past 3 months**)"
   ]
  },
  {
   "cell_type": "markdown",
   "id": "66662cff",
   "metadata": {},
   "source": [
    "### Customer Demographic"
   ]
  },
  {
   "cell_type": "code",
   "execution_count": 2,
   "id": "b1f50896",
   "metadata": {},
   "outputs": [],
   "source": [
    "# importing required required libraries \n",
    "import pandas as pd\n",
    "import numpy as np"
   ]
  },
  {
   "cell_type": "markdown",
   "id": "b7797bfb",
   "metadata": {},
   "source": [
    "### Reading data"
   ]
  },
  {
   "cell_type": "code",
   "execution_count": 3,
   "id": "fac4e773",
   "metadata": {},
   "outputs": [],
   "source": [
    "import os\n",
    "file_name = 'KPMG_VI_New_raw_data_update_final.xlsx'\n",
    "\n",
    "import warnings\n",
    "warnings.filterwarnings(\"ignore\")\n",
    "\n",
    "# Get the current working directory\n",
    "current_directory = os.getcwd()\n",
    "\n",
    "# Create the complete file path by joining the directory and file name\n",
    "file_path = os.path.join(current_directory, file_name)\n",
    "# importing data from \"Customer Demographic\" sheet\n",
    "Customer_Demographic=pd.read_excel(file_path,sheet_name=\"CustomerDemographic\")"
   ]
  },
  {
   "cell_type": "markdown",
   "id": "d469369c",
   "metadata": {},
   "source": [
    "### Exploring transaction data"
   ]
  },
  {
   "cell_type": "code",
   "execution_count": 4,
   "id": "34bc6c95",
   "metadata": {},
   "outputs": [
    {
     "data": {
      "text/html": [
       "<div>\n",
       "<style scoped>\n",
       "    .dataframe tbody tr th:only-of-type {\n",
       "        vertical-align: middle;\n",
       "    }\n",
       "\n",
       "    .dataframe tbody tr th {\n",
       "        vertical-align: top;\n",
       "    }\n",
       "\n",
       "    .dataframe thead th {\n",
       "        text-align: right;\n",
       "    }\n",
       "</style>\n",
       "<table border=\"1\" class=\"dataframe\">\n",
       "  <thead>\n",
       "    <tr style=\"text-align: right;\">\n",
       "      <th></th>\n",
       "      <th>customer_id</th>\n",
       "      <th>first_name</th>\n",
       "      <th>last_name</th>\n",
       "      <th>gender</th>\n",
       "      <th>past_3_years_bike_related_purchases</th>\n",
       "      <th>DOB</th>\n",
       "      <th>job_title</th>\n",
       "      <th>job_industry_category</th>\n",
       "      <th>wealth_segment</th>\n",
       "      <th>deceased_indicator</th>\n",
       "      <th>default</th>\n",
       "      <th>owns_car</th>\n",
       "      <th>tenure</th>\n",
       "    </tr>\n",
       "  </thead>\n",
       "  <tbody>\n",
       "    <tr>\n",
       "      <th>0</th>\n",
       "      <td>1</td>\n",
       "      <td>Laraine</td>\n",
       "      <td>Medendorp</td>\n",
       "      <td>F</td>\n",
       "      <td>93</td>\n",
       "      <td>1953-10-12</td>\n",
       "      <td>Executive Secretary</td>\n",
       "      <td>Health</td>\n",
       "      <td>Mass Customer</td>\n",
       "      <td>N</td>\n",
       "      <td>\"'</td>\n",
       "      <td>Yes</td>\n",
       "      <td>11.0</td>\n",
       "    </tr>\n",
       "    <tr>\n",
       "      <th>1</th>\n",
       "      <td>2</td>\n",
       "      <td>Eli</td>\n",
       "      <td>Bockman</td>\n",
       "      <td>Male</td>\n",
       "      <td>81</td>\n",
       "      <td>1980-12-16</td>\n",
       "      <td>Administrative Officer</td>\n",
       "      <td>Financial Services</td>\n",
       "      <td>Mass Customer</td>\n",
       "      <td>N</td>\n",
       "      <td>&lt;script&gt;alert('hi')&lt;/script&gt;</td>\n",
       "      <td>Yes</td>\n",
       "      <td>16.0</td>\n",
       "    </tr>\n",
       "    <tr>\n",
       "      <th>2</th>\n",
       "      <td>3</td>\n",
       "      <td>Arlin</td>\n",
       "      <td>Dearle</td>\n",
       "      <td>Male</td>\n",
       "      <td>61</td>\n",
       "      <td>1954-01-20</td>\n",
       "      <td>Recruiting Manager</td>\n",
       "      <td>Property</td>\n",
       "      <td>Mass Customer</td>\n",
       "      <td>N</td>\n",
       "      <td>2018-02-01 00:00:00</td>\n",
       "      <td>Yes</td>\n",
       "      <td>15.0</td>\n",
       "    </tr>\n",
       "    <tr>\n",
       "      <th>3</th>\n",
       "      <td>4</td>\n",
       "      <td>Talbot</td>\n",
       "      <td>NaN</td>\n",
       "      <td>Male</td>\n",
       "      <td>33</td>\n",
       "      <td>1961-10-03</td>\n",
       "      <td>NaN</td>\n",
       "      <td>IT</td>\n",
       "      <td>Mass Customer</td>\n",
       "      <td>N</td>\n",
       "      <td>() { _; } &gt;_[$($())] { touch /tmp/blns.shellsh...</td>\n",
       "      <td>No</td>\n",
       "      <td>7.0</td>\n",
       "    </tr>\n",
       "    <tr>\n",
       "      <th>4</th>\n",
       "      <td>5</td>\n",
       "      <td>Sheila-kathryn</td>\n",
       "      <td>Calton</td>\n",
       "      <td>Female</td>\n",
       "      <td>56</td>\n",
       "      <td>1977-05-13</td>\n",
       "      <td>Senior Editor</td>\n",
       "      <td>NaN</td>\n",
       "      <td>Affluent Customer</td>\n",
       "      <td>N</td>\n",
       "      <td>NIL</td>\n",
       "      <td>Yes</td>\n",
       "      <td>8.0</td>\n",
       "    </tr>\n",
       "  </tbody>\n",
       "</table>\n",
       "</div>"
      ],
      "text/plain": [
       "   customer_id      first_name  last_name  gender  \\\n",
       "0            1         Laraine  Medendorp       F   \n",
       "1            2             Eli    Bockman    Male   \n",
       "2            3           Arlin     Dearle    Male   \n",
       "3            4          Talbot        NaN    Male   \n",
       "4            5  Sheila-kathryn     Calton  Female   \n",
       "\n",
       "   past_3_years_bike_related_purchases        DOB               job_title  \\\n",
       "0                                   93 1953-10-12     Executive Secretary   \n",
       "1                                   81 1980-12-16  Administrative Officer   \n",
       "2                                   61 1954-01-20      Recruiting Manager   \n",
       "3                                   33 1961-10-03                     NaN   \n",
       "4                                   56 1977-05-13           Senior Editor   \n",
       "\n",
       "  job_industry_category     wealth_segment deceased_indicator  \\\n",
       "0                Health      Mass Customer                  N   \n",
       "1    Financial Services      Mass Customer                  N   \n",
       "2              Property      Mass Customer                  N   \n",
       "3                    IT      Mass Customer                  N   \n",
       "4                   NaN  Affluent Customer                  N   \n",
       "\n",
       "                                             default owns_car  tenure  \n",
       "0                                                 \"'      Yes    11.0  \n",
       "1                       <script>alert('hi')</script>      Yes    16.0  \n",
       "2                                2018-02-01 00:00:00      Yes    15.0  \n",
       "3  () { _; } >_[$($())] { touch /tmp/blns.shellsh...       No     7.0  \n",
       "4                                                NIL      Yes     8.0  "
      ]
     },
     "execution_count": 4,
     "metadata": {},
     "output_type": "execute_result"
    }
   ],
   "source": [
    "Customer_Demographic.head(5)"
   ]
  },
  {
   "cell_type": "code",
   "execution_count": 5,
   "id": "06bed59c",
   "metadata": {},
   "outputs": [
    {
     "name": "stdout",
     "output_type": "stream",
     "text": [
      "The shape of data-> (4000, 13)\n",
      "\n",
      "<class 'pandas.core.frame.DataFrame'>\n",
      "RangeIndex: 4000 entries, 0 to 3999\n",
      "Data columns (total 13 columns):\n",
      " #   Column                               Non-Null Count  Dtype         \n",
      "---  ------                               --------------  -----         \n",
      " 0   customer_id                          4000 non-null   int64         \n",
      " 1   first_name                           4000 non-null   object        \n",
      " 2   last_name                            3875 non-null   object        \n",
      " 3   gender                               4000 non-null   object        \n",
      " 4   past_3_years_bike_related_purchases  4000 non-null   int64         \n",
      " 5   DOB                                  3913 non-null   datetime64[ns]\n",
      " 6   job_title                            3494 non-null   object        \n",
      " 7   job_industry_category                3344 non-null   object        \n",
      " 8   wealth_segment                       4000 non-null   object        \n",
      " 9   deceased_indicator                   4000 non-null   object        \n",
      " 10  default                              3698 non-null   object        \n",
      " 11  owns_car                             4000 non-null   object        \n",
      " 12  tenure                               3913 non-null   float64       \n",
      "dtypes: datetime64[ns](1), float64(1), int64(2), object(9)\n",
      "memory usage: 406.4+ KB\n"
     ]
    }
   ],
   "source": [
    "# checking the data\n",
    "print(\"The shape of data->\",Customer_Demographic.shape)\n",
    "print()\n",
    "Customer_Demographic.info()"
   ]
  },
  {
   "cell_type": "markdown",
   "id": "7a2b2973",
   "metadata": {},
   "source": [
    "#### Initially there is 4000 rows and 13 coloumn"
   ]
  },
  {
   "cell_type": "code",
   "execution_count": 6,
   "id": "a6a24243",
   "metadata": {},
   "outputs": [
    {
     "data": {
      "text/plain": [
       "customer_id                              0\n",
       "first_name                               0\n",
       "last_name                              125\n",
       "gender                                   0\n",
       "past_3_years_bike_related_purchases      0\n",
       "DOB                                     87\n",
       "job_title                              506\n",
       "job_industry_category                  656\n",
       "wealth_segment                           0\n",
       "deceased_indicator                       0\n",
       "default                                302\n",
       "owns_car                                 0\n",
       "tenure                                  87\n",
       "dtype: int64"
      ]
     },
     "execution_count": 6,
     "metadata": {},
     "output_type": "execute_result"
    }
   ],
   "source": [
    "# checking the null values\n",
    "Customer_Demographic.isnull().sum()"
   ]
  },
  {
   "cell_type": "markdown",
   "id": "add618fa",
   "metadata": {},
   "source": [
    "#### There is null values in 6 coloumns.We can drop them or replace them accroding to the nature of analysis or data trend.\n",
    "\n",
    "*Although we prefer to replace the values of numerical column only , there no need to replacs the null values of categorical & identical column.*"
   ]
  },
  {
   "cell_type": "markdown",
   "id": "6b93c347",
   "metadata": {},
   "source": [
    "#### We can  change all data value into one case "
   ]
  },
  {
   "cell_type": "code",
   "execution_count": 7,
   "id": "3888e564",
   "metadata": {},
   "outputs": [],
   "source": [
    "def change_upper(df):\n",
    "    for column in df.columns:\n",
    "        if df[column].dtype=='object':\n",
    "            df[column] = df[column].str.upper()\n",
    "    return df"
   ]
  },
  {
   "cell_type": "markdown",
   "id": "f6db0c47",
   "metadata": {},
   "source": [
    "#### we can use change_upper fuction changing the data values to upper case\n",
    "*so there is consistency in the records*"
   ]
  },
  {
   "cell_type": "markdown",
   "id": "c16f0640",
   "metadata": {},
   "source": [
    "#### Checking the duplicate values"
   ]
  },
  {
   "cell_type": "code",
   "execution_count": 8,
   "id": "65349081",
   "metadata": {},
   "outputs": [
    {
     "data": {
      "text/plain": [
       "0"
      ]
     },
     "execution_count": 8,
     "metadata": {},
     "output_type": "execute_result"
    }
   ],
   "source": [
    "Customer_Demographic.duplicated().sum()"
   ]
  },
  {
   "cell_type": "markdown",
   "id": "adab6ea1",
   "metadata": {},
   "source": [
    "#### There is no duplicate records present in the data set.\n",
    "*so all records are unique.*"
   ]
  },
  {
   "cell_type": "markdown",
   "id": "fdd8d477",
   "metadata": {},
   "source": [
    "### Exploring coloumns"
   ]
  },
  {
   "cell_type": "markdown",
   "id": "9737cae3",
   "metadata": {},
   "source": [
    "#### Generate a summary of count of all the outliers column wise"
   ]
  },
  {
   "cell_type": "code",
   "execution_count": 10,
   "id": "5d5f3889",
   "metadata": {},
   "outputs": [],
   "source": [
    "def detect_outliers_iqr(dataframe,column_name):\n",
    "    # Calculate quartiles\n",
    "    Q1 = dataframe[column_name].quantile(0.25)\n",
    "    Q3 = dataframe[column_name].quantile(0.75)\n",
    "    \n",
    "    # Calculate IQR\n",
    "    IQR = Q3 - Q1\n",
    "    \n",
    "    # Calculate lower and upper bounds\n",
    "    lower_bound = Q1 - 1.5 * IQR\n",
    "    upper_bound = Q3 + 1.5 * IQR\n",
    "    \n",
    "    # Find outliers\n",
    "    outliers = dataframe[(dataframe[column_name] < lower_bound) | (dataframe[column_name] > upper_bound)]\n",
    "    \n",
    "    return outliers"
   ]
  },
  {
   "cell_type": "code",
   "execution_count": 11,
   "id": "a23b045a",
   "metadata": {},
   "outputs": [
    {
     "name": "stdout",
     "output_type": "stream",
     "text": [
      "the no. of outlier in customer_id is:\n",
      "0\n",
      "the no. of outlier in past_3_years_bike_related_purchases is:\n",
      "0\n",
      "the no. of outlier in tenure is:\n",
      "0\n"
     ]
    }
   ],
   "source": [
    "for column in Customer_Demographic:\n",
    "    if Customer_Demographic[column].dtype=='int64' or Customer_Demographic[column].dtype=='float64':\n",
    "        outliers=detect_outliers_iqr(Customer_Demographic,column)\n",
    "        print(f\"the no. of outlier in {column} is:\")\n",
    "        print(outliers[column].count())"
   ]
  },
  {
   "cell_type": "markdown",
   "id": "235943b7",
   "metadata": {},
   "source": [
    "#### There is no outlier found in customer demografic data set"
   ]
  },
  {
   "cell_type": "markdown",
   "id": "c0be852b",
   "metadata": {},
   "source": [
    "#### Checking the categorical columns , if there is different entry or values indiacating same category then change it as one category"
   ]
  },
  {
   "cell_type": "code",
   "execution_count": 42,
   "id": "a7c769ef",
   "metadata": {},
   "outputs": [
    {
     "data": {
      "text/plain": [
       "array(['F', 'Male', 'Female', 'U', 'Femal', 'M'], dtype=object)"
      ]
     },
     "execution_count": 42,
     "metadata": {},
     "output_type": "execute_result"
    }
   ],
   "source": [
    "Customer_Demographic[\"gender\"].unique()"
   ]
  },
  {
   "cell_type": "markdown",
   "id": "12eaa0f7",
   "metadata": {},
   "source": [
    "#### As per gender category there is there must be three category Male(M), Female(F) and Unspecified(U).So we can consider F,Female,Femal as F and Male,M as M and U."
   ]
  },
  {
   "cell_type": "code",
   "execution_count": 43,
   "id": "b196c0c1",
   "metadata": {},
   "outputs": [
    {
     "data": {
      "text/plain": [
       "['Executive Secretary',\n",
       " 'Administrative Officer',\n",
       " 'Recruiting Manager',\n",
       " nan,\n",
       " 'Senior Editor',\n",
       " 'Media Manager I',\n",
       " 'Business Systems Development Analyst',\n",
       " 'Senior Quality Engineer',\n",
       " 'Nuclear Power Engineer',\n",
       " 'Developer I',\n",
       " 'Account Executive',\n",
       " 'Junior Executive',\n",
       " 'Media Manager IV',\n",
       " 'Sales Associate',\n",
       " 'Professor',\n",
       " 'Geological Engineer',\n",
       " 'Project Manager',\n",
       " 'Safety Technician I',\n",
       " 'Research Assistant I',\n",
       " 'Accounting Assistant III',\n",
       " 'Editor',\n",
       " 'Research Nurse',\n",
       " 'Safety Technician III',\n",
       " 'Staff Accountant III',\n",
       " 'Legal Assistant',\n",
       " 'Product Engineer',\n",
       " 'Information Systems Manager',\n",
       " 'VP Quality Control',\n",
       " 'Social Worker',\n",
       " 'Senior Cost Accountant',\n",
       " 'Assistant Media Planner',\n",
       " 'Payment Adjustment Coordinator',\n",
       " 'Food Chemist',\n",
       " 'Accountant III',\n",
       " 'Director of Sales',\n",
       " 'Senior Financial Analyst',\n",
       " 'Registered Nurse',\n",
       " 'Biostatistician II',\n",
       " 'Computer Systems Analyst II',\n",
       " 'Software Test Engineer II',\n",
       " 'Paralegal',\n",
       " 'VP Sales',\n",
       " 'Chief Design Engineer',\n",
       " 'Office Assistant III',\n",
       " 'Physical Therapy Assistant',\n",
       " 'Help Desk Operator',\n",
       " 'Web Developer II',\n",
       " 'Research Associate',\n",
       " 'Teacher',\n",
       " 'VP Product Management',\n",
       " 'Statistician II',\n",
       " 'Automation Specialist IV',\n",
       " 'Data Coordiator',\n",
       " 'Software Test Engineer III',\n",
       " 'Internal Auditor',\n",
       " 'Analyst Programmer',\n",
       " 'Occupational Therapist',\n",
       " 'Speech Pathologist',\n",
       " 'Quality Control Specialist',\n",
       " 'Civil Engineer',\n",
       " 'Software Engineer III',\n",
       " 'Community Outreach Specialist',\n",
       " 'Safety Technician IV',\n",
       " 'VP Accounting',\n",
       " 'General Manager',\n",
       " 'Nurse Practicioner',\n",
       " 'Automation Specialist II',\n",
       " 'Marketing Assistant',\n",
       " 'Marketing Manager',\n",
       " 'Staff Scientist',\n",
       " 'Assistant Professor',\n",
       " 'Budget/Accounting Analyst IV',\n",
       " 'Associate Professor',\n",
       " 'Graphic Designer',\n",
       " 'Administrative Assistant II',\n",
       " 'Compensation Analyst',\n",
       " 'Systems Administrator III',\n",
       " 'Financial Advisor',\n",
       " 'Chemical Engineer',\n",
       " 'Web Designer I',\n",
       " 'Senior Developer',\n",
       " 'Office Assistant II',\n",
       " 'Recruiter',\n",
       " 'Operator',\n",
       " 'Programmer Analyst III',\n",
       " 'Quality Engineer',\n",
       " 'Environmental Tech',\n",
       " 'Analog Circuit Design manager',\n",
       " 'Cost Accountant',\n",
       " 'Librarian',\n",
       " 'Structural Analysis Engineer',\n",
       " 'Pharmacist',\n",
       " 'Assistant Manager',\n",
       " 'Accountant I',\n",
       " 'Web Designer III',\n",
       " 'Geologist III',\n",
       " 'Software Test Engineer I',\n",
       " 'Structural Engineer',\n",
       " 'Safety Technician II',\n",
       " 'Web Developer III',\n",
       " 'Programmer Analyst II',\n",
       " 'Design Engineer',\n",
       " 'Statistician I',\n",
       " 'VP Marketing',\n",
       " 'Desktop Support Technician',\n",
       " 'Actuary',\n",
       " 'Database Administrator III',\n",
       " 'Electrical Engineer',\n",
       " 'Tax Accountant',\n",
       " 'Clinical Specialist',\n",
       " 'Database Administrator IV',\n",
       " 'Systems Administrator II',\n",
       " 'Account Coordinator',\n",
       " 'Programmer III',\n",
       " 'Administrative Assistant III',\n",
       " 'Nurse',\n",
       " 'Technical Writer',\n",
       " 'Staff Accountant II',\n",
       " 'Dental Hygienist',\n",
       " 'Sales Representative',\n",
       " 'Budget/Accounting Analyst III',\n",
       " 'Computer Systems Analyst IV',\n",
       " 'Geologist I',\n",
       " 'Financial Analyst',\n",
       " 'Accounting Assistant II',\n",
       " 'Senior Sales Associate',\n",
       " 'Database Administrator II',\n",
       " 'Engineer I',\n",
       " 'Budget/Accounting Analyst I',\n",
       " 'Developer IV',\n",
       " 'Database Administrator I',\n",
       " 'Environmental Specialist',\n",
       " 'Computer Systems Analyst I',\n",
       " 'Account Representative IV',\n",
       " 'Statistician IV',\n",
       " 'Human Resources Manager',\n",
       " 'GIS Technical Architect',\n",
       " 'Programmer IV',\n",
       " 'Accounting Assistant IV',\n",
       " 'Software Engineer IV',\n",
       " 'Programmer II',\n",
       " 'Engineer III',\n",
       " 'Software Consultant',\n",
       " 'Biostatistician IV',\n",
       " 'Help Desk Technician',\n",
       " 'Automation Specialist I',\n",
       " 'Developer III',\n",
       " 'Human Resources Assistant I',\n",
       " 'Geologist IV',\n",
       " 'Media Manager II',\n",
       " 'Statistician III',\n",
       " 'Engineer II',\n",
       " 'Health Coach II',\n",
       " 'Developer II',\n",
       " 'Systems Administrator I',\n",
       " 'Web Developer I',\n",
       " 'Software Engineer II',\n",
       " 'Accounting Assistant I',\n",
       " 'Research Assistant II',\n",
       " 'Programmer Analyst IV',\n",
       " 'Health Coach I',\n",
       " 'Accountant II',\n",
       " 'Automation Specialist III',\n",
       " 'Administrative Assistant I',\n",
       " 'Health Coach IV',\n",
       " 'Media Manager III',\n",
       " 'Account Representative III',\n",
       " 'Web Designer IV',\n",
       " 'Budget/Accounting Analyst II',\n",
       " 'Web Developer IV',\n",
       " 'Programmer I',\n",
       " 'Biostatistician III',\n",
       " 'Software Test Engineer IV',\n",
       " 'Research Assistant IV',\n",
       " 'Account Representative I',\n",
       " 'Accountant IV',\n",
       " 'Biostatistician I',\n",
       " 'Human Resources Assistant IV',\n",
       " 'Administrative Assistant IV',\n",
       " 'Office Assistant I',\n",
       " 'Human Resources Assistant II',\n",
       " 'Mechanical Systems Engineer',\n",
       " 'Engineer IV',\n",
       " 'Health Coach III',\n",
       " 'Office Assistant IV',\n",
       " 'Software Engineer I',\n",
       " 'Human Resources Assistant III',\n",
       " 'Staff Accountant I',\n",
       " 'Computer Systems Analyst III',\n",
       " 'Geologist II',\n",
       " 'Web Designer II',\n",
       " 'Staff Accountant IV',\n",
       " 'Account Representative II',\n",
       " 'Programmer Analyst I',\n",
       " 'Systems Administrator IV',\n",
       " 'Research Assistant III']"
      ]
     },
     "execution_count": 43,
     "metadata": {},
     "output_type": "execute_result"
    }
   ],
   "source": [
    "Customer_Demographic[\"job_title\"].unique().tolist()"
   ]
  },
  {
   "cell_type": "code",
   "execution_count": 44,
   "id": "2d6f84aa",
   "metadata": {},
   "outputs": [
    {
     "data": {
      "text/plain": [
       "array(['Health', 'Financial Services', 'Property', 'IT', nan, 'Retail',\n",
       "       'Argiculture', 'Manufacturing', 'Telecommunications',\n",
       "       'Entertainment'], dtype=object)"
      ]
     },
     "execution_count": 44,
     "metadata": {},
     "output_type": "execute_result"
    }
   ],
   "source": [
    "Customer_Demographic[\"job_industry_category\"].unique()"
   ]
  },
  {
   "cell_type": "code",
   "execution_count": 45,
   "id": "e34c0a52",
   "metadata": {},
   "outputs": [
    {
     "data": {
      "text/plain": [
       "array(['Mass Customer', 'Affluent Customer', 'High Net Worth'],\n",
       "      dtype=object)"
      ]
     },
     "execution_count": 45,
     "metadata": {},
     "output_type": "execute_result"
    }
   ],
   "source": [
    "Customer_Demographic[\"wealth_segment\"].unique()"
   ]
  },
  {
   "cell_type": "code",
   "execution_count": 46,
   "id": "2a0b8740",
   "metadata": {},
   "outputs": [
    {
     "data": {
      "text/plain": [
       "array(['N', 'Y'], dtype=object)"
      ]
     },
     "execution_count": 46,
     "metadata": {},
     "output_type": "execute_result"
    }
   ],
   "source": [
    "Customer_Demographic[\"deceased_indicator\"].unique()"
   ]
  },
  {
   "cell_type": "markdown",
   "id": "db854e3d",
   "metadata": {},
   "source": [
    "#### We can drop the records where deceased indicator denoted as 'Y'"
   ]
  },
  {
   "cell_type": "code",
   "execution_count": 47,
   "id": "96d9bc4e",
   "metadata": {
    "scrolled": true
   },
   "outputs": [
    {
     "data": {
      "text/plain": [
       "array(['Yes', 'No'], dtype=object)"
      ]
     },
     "execution_count": 47,
     "metadata": {},
     "output_type": "execute_result"
    }
   ],
   "source": [
    "Customer_Demographic[\"owns_car\"].unique()"
   ]
  },
  {
   "cell_type": "markdown",
   "id": "9d6a1db7",
   "metadata": {},
   "source": [
    "#### There is no such data that contradict the values of categorical columns other than gender.\n",
    "*So we only have to change the records for gender coloumns*\n",
    "\n",
    "*there is some null value as we saw earlier*"
   ]
  },
  {
   "cell_type": "markdown",
   "id": "76aa3b48",
   "metadata": {},
   "source": [
    "#### As DOB column we can calculate the age of the customer thugh wer can sort out the irrelevant customer as per product or nature of analysis"
   ]
  },
  {
   "cell_type": "code",
   "execution_count": 50,
   "id": "a048a262",
   "metadata": {},
   "outputs": [],
   "source": [
    "import datetime as dt\n",
    "# finding current date \n",
    "current_date=dt.date.today()\n",
    "# changing the values as date & time delta index\n",
    "Customer_Demographic[\"DOB\"]=pd.to_datetime(Customer_Demographic[\"DOB\"])\n",
    "current_date=pd.to_datetime(current_date)\n",
    "\n",
    "#calculate age\n",
    "Customer_Demographic[\"age\"]=(current_date-Customer_Demographic[\"DOB\"]).astype('<m8[Y]')"
   ]
  },
  {
   "cell_type": "code",
   "execution_count": 54,
   "id": "9bc3b58d",
   "metadata": {},
   "outputs": [
    {
     "data": {
      "text/plain": [
       "(21.0, 179.0)"
      ]
     },
     "execution_count": 54,
     "metadata": {},
     "output_type": "execute_result"
    }
   ],
   "source": [
    "age_range=(Customer_Demographic['age'].min(),Customer_Demographic['age'].max())\n",
    "age_range"
   ]
  },
  {
   "cell_type": "markdown",
   "id": "74192959",
   "metadata": {},
   "source": [
    "#### As per records given there age range is to high and irrelevant for product , so we can sort out the customer who have age less than 65."
   ]
  },
  {
   "cell_type": "code",
   "execution_count": 58,
   "id": "ae29eb37",
   "metadata": {},
   "outputs": [
    {
     "data": {
      "text/html": [
       "<div>\n",
       "<style scoped>\n",
       "    .dataframe tbody tr th:only-of-type {\n",
       "        vertical-align: middle;\n",
       "    }\n",
       "\n",
       "    .dataframe tbody tr th {\n",
       "        vertical-align: top;\n",
       "    }\n",
       "\n",
       "    .dataframe thead th {\n",
       "        text-align: right;\n",
       "    }\n",
       "</style>\n",
       "<table border=\"1\" class=\"dataframe\">\n",
       "  <thead>\n",
       "    <tr style=\"text-align: right;\">\n",
       "      <th></th>\n",
       "      <th>customer_id</th>\n",
       "      <th>first_name</th>\n",
       "      <th>last_name</th>\n",
       "      <th>gender</th>\n",
       "      <th>past_3_years_bike_related_purchases</th>\n",
       "      <th>DOB</th>\n",
       "      <th>job_title</th>\n",
       "      <th>job_industry_category</th>\n",
       "      <th>wealth_segment</th>\n",
       "      <th>deceased_indicator</th>\n",
       "      <th>default</th>\n",
       "      <th>owns_car</th>\n",
       "      <th>tenure</th>\n",
       "      <th>age</th>\n",
       "    </tr>\n",
       "  </thead>\n",
       "  <tbody>\n",
       "    <tr>\n",
       "      <th>1</th>\n",
       "      <td>2</td>\n",
       "      <td>Eli</td>\n",
       "      <td>Bockman</td>\n",
       "      <td>Male</td>\n",
       "      <td>81</td>\n",
       "      <td>1980-12-16</td>\n",
       "      <td>Administrative Officer</td>\n",
       "      <td>Financial Services</td>\n",
       "      <td>Mass Customer</td>\n",
       "      <td>N</td>\n",
       "      <td>&lt;script&gt;alert('hi')&lt;/script&gt;</td>\n",
       "      <td>Yes</td>\n",
       "      <td>16.0</td>\n",
       "      <td>42.0</td>\n",
       "    </tr>\n",
       "    <tr>\n",
       "      <th>3</th>\n",
       "      <td>4</td>\n",
       "      <td>Talbot</td>\n",
       "      <td>NaN</td>\n",
       "      <td>Male</td>\n",
       "      <td>33</td>\n",
       "      <td>1961-10-03</td>\n",
       "      <td>NaN</td>\n",
       "      <td>IT</td>\n",
       "      <td>Mass Customer</td>\n",
       "      <td>N</td>\n",
       "      <td>() { _; } &gt;_[$($())] { touch /tmp/blns.shellsh...</td>\n",
       "      <td>No</td>\n",
       "      <td>7.0</td>\n",
       "      <td>62.0</td>\n",
       "    </tr>\n",
       "    <tr>\n",
       "      <th>4</th>\n",
       "      <td>5</td>\n",
       "      <td>Sheila-kathryn</td>\n",
       "      <td>Calton</td>\n",
       "      <td>Female</td>\n",
       "      <td>56</td>\n",
       "      <td>1977-05-13</td>\n",
       "      <td>Senior Editor</td>\n",
       "      <td>NaN</td>\n",
       "      <td>Affluent Customer</td>\n",
       "      <td>N</td>\n",
       "      <td>NIL</td>\n",
       "      <td>Yes</td>\n",
       "      <td>8.0</td>\n",
       "      <td>46.0</td>\n",
       "    </tr>\n",
       "    <tr>\n",
       "      <th>5</th>\n",
       "      <td>6</td>\n",
       "      <td>Curr</td>\n",
       "      <td>Duckhouse</td>\n",
       "      <td>Male</td>\n",
       "      <td>35</td>\n",
       "      <td>1966-09-16</td>\n",
       "      <td>NaN</td>\n",
       "      <td>Retail</td>\n",
       "      <td>High Net Worth</td>\n",
       "      <td>N</td>\n",
       "      <td>ðµ ð ð ð</td>\n",
       "      <td>Yes</td>\n",
       "      <td>13.0</td>\n",
       "      <td>57.0</td>\n",
       "    </tr>\n",
       "    <tr>\n",
       "      <th>6</th>\n",
       "      <td>7</td>\n",
       "      <td>Fina</td>\n",
       "      <td>Merali</td>\n",
       "      <td>Female</td>\n",
       "      <td>6</td>\n",
       "      <td>1976-02-23</td>\n",
       "      <td>NaN</td>\n",
       "      <td>Financial Services</td>\n",
       "      <td>Affluent Customer</td>\n",
       "      <td>N</td>\n",
       "      <td>â°â´âµâââ</td>\n",
       "      <td>Yes</td>\n",
       "      <td>11.0</td>\n",
       "      <td>47.0</td>\n",
       "    </tr>\n",
       "  </tbody>\n",
       "</table>\n",
       "</div>"
      ],
      "text/plain": [
       "   customer_id      first_name  last_name  gender  \\\n",
       "1            2             Eli    Bockman    Male   \n",
       "3            4          Talbot        NaN    Male   \n",
       "4            5  Sheila-kathryn     Calton  Female   \n",
       "5            6            Curr  Duckhouse    Male   \n",
       "6            7            Fina     Merali  Female   \n",
       "\n",
       "   past_3_years_bike_related_purchases        DOB               job_title  \\\n",
       "1                                   81 1980-12-16  Administrative Officer   \n",
       "3                                   33 1961-10-03                     NaN   \n",
       "4                                   56 1977-05-13           Senior Editor   \n",
       "5                                   35 1966-09-16                     NaN   \n",
       "6                                    6 1976-02-23                     NaN   \n",
       "\n",
       "  job_industry_category     wealth_segment deceased_indicator  \\\n",
       "1    Financial Services      Mass Customer                  N   \n",
       "3                    IT      Mass Customer                  N   \n",
       "4                   NaN  Affluent Customer                  N   \n",
       "5                Retail     High Net Worth                  N   \n",
       "6    Financial Services  Affluent Customer                  N   \n",
       "\n",
       "                                             default owns_car  tenure   age  \n",
       "1                       <script>alert('hi')</script>      Yes    16.0  42.0  \n",
       "3  () { _; } >_[$($())] { touch /tmp/blns.shellsh...       No     7.0  62.0  \n",
       "4                                                NIL      Yes     8.0  46.0  \n",
       "5                                           ðµ ð ð ð      Yes    13.0  57.0  \n",
       "6                                          â°â´âµâââ      Yes    11.0  47.0  "
      ]
     },
     "execution_count": 58,
     "metadata": {},
     "output_type": "execute_result"
    }
   ],
   "source": [
    "Customer_Demographic[Customer_Demographic['age']<65.0].head()"
   ]
  },
  {
   "cell_type": "markdown",
   "id": "0388e9db",
   "metadata": {},
   "source": [
    "#### We can drop the Default column cause that column do not give us any meaningfull insight "
   ]
  },
  {
   "cell_type": "markdown",
   "id": "8939eef3",
   "metadata": {},
   "source": [
    "### Customer Address "
   ]
  },
  {
   "cell_type": "markdown",
   "id": "bc4fba06",
   "metadata": {},
   "source": [
    "### Reading data"
   ]
  },
  {
   "cell_type": "code",
   "execution_count": 12,
   "id": "1b40b59b",
   "metadata": {},
   "outputs": [],
   "source": [
    "# importing data from \"Customer Demographic\" sheet\n",
    "Customer_Address=pd.read_excel(file_path,sheet_name=\"CustomerAddress\")"
   ]
  },
  {
   "cell_type": "markdown",
   "id": "f09aaca3",
   "metadata": {},
   "source": [
    "### Exploring transaction data"
   ]
  },
  {
   "cell_type": "code",
   "execution_count": 13,
   "id": "b2a9bba5",
   "metadata": {},
   "outputs": [
    {
     "data": {
      "text/html": [
       "<div>\n",
       "<style scoped>\n",
       "    .dataframe tbody tr th:only-of-type {\n",
       "        vertical-align: middle;\n",
       "    }\n",
       "\n",
       "    .dataframe tbody tr th {\n",
       "        vertical-align: top;\n",
       "    }\n",
       "\n",
       "    .dataframe thead th {\n",
       "        text-align: right;\n",
       "    }\n",
       "</style>\n",
       "<table border=\"1\" class=\"dataframe\">\n",
       "  <thead>\n",
       "    <tr style=\"text-align: right;\">\n",
       "      <th></th>\n",
       "      <th>customer_id</th>\n",
       "      <th>address</th>\n",
       "      <th>postcode</th>\n",
       "      <th>state</th>\n",
       "      <th>country</th>\n",
       "      <th>property_valuation</th>\n",
       "    </tr>\n",
       "  </thead>\n",
       "  <tbody>\n",
       "    <tr>\n",
       "      <th>0</th>\n",
       "      <td>1</td>\n",
       "      <td>060 Morning Avenue</td>\n",
       "      <td>2016</td>\n",
       "      <td>New South Wales</td>\n",
       "      <td>Australia</td>\n",
       "      <td>10</td>\n",
       "    </tr>\n",
       "    <tr>\n",
       "      <th>1</th>\n",
       "      <td>2</td>\n",
       "      <td>6 Meadow Vale Court</td>\n",
       "      <td>2153</td>\n",
       "      <td>New South Wales</td>\n",
       "      <td>Australia</td>\n",
       "      <td>10</td>\n",
       "    </tr>\n",
       "    <tr>\n",
       "      <th>2</th>\n",
       "      <td>4</td>\n",
       "      <td>0 Holy Cross Court</td>\n",
       "      <td>4211</td>\n",
       "      <td>QLD</td>\n",
       "      <td>Australia</td>\n",
       "      <td>9</td>\n",
       "    </tr>\n",
       "    <tr>\n",
       "      <th>3</th>\n",
       "      <td>5</td>\n",
       "      <td>17979 Del Mar Point</td>\n",
       "      <td>2448</td>\n",
       "      <td>New South Wales</td>\n",
       "      <td>Australia</td>\n",
       "      <td>4</td>\n",
       "    </tr>\n",
       "    <tr>\n",
       "      <th>4</th>\n",
       "      <td>6</td>\n",
       "      <td>9 Oakridge Court</td>\n",
       "      <td>3216</td>\n",
       "      <td>VIC</td>\n",
       "      <td>Australia</td>\n",
       "      <td>9</td>\n",
       "    </tr>\n",
       "  </tbody>\n",
       "</table>\n",
       "</div>"
      ],
      "text/plain": [
       "   customer_id              address  postcode            state    country  \\\n",
       "0            1   060 Morning Avenue      2016  New South Wales  Australia   \n",
       "1            2  6 Meadow Vale Court      2153  New South Wales  Australia   \n",
       "2            4   0 Holy Cross Court      4211              QLD  Australia   \n",
       "3            5  17979 Del Mar Point      2448  New South Wales  Australia   \n",
       "4            6     9 Oakridge Court      3216              VIC  Australia   \n",
       "\n",
       "   property_valuation  \n",
       "0                  10  \n",
       "1                  10  \n",
       "2                   9  \n",
       "3                   4  \n",
       "4                   9  "
      ]
     },
     "execution_count": 13,
     "metadata": {},
     "output_type": "execute_result"
    }
   ],
   "source": [
    "Customer_Address.head(5)"
   ]
  },
  {
   "cell_type": "code",
   "execution_count": 14,
   "id": "008a0768",
   "metadata": {},
   "outputs": [
    {
     "name": "stdout",
     "output_type": "stream",
     "text": [
      "The shape of data-> (3999, 6)\n",
      "\n",
      "<class 'pandas.core.frame.DataFrame'>\n",
      "RangeIndex: 3999 entries, 0 to 3998\n",
      "Data columns (total 6 columns):\n",
      " #   Column              Non-Null Count  Dtype \n",
      "---  ------              --------------  ----- \n",
      " 0   customer_id         3999 non-null   int64 \n",
      " 1   address             3999 non-null   object\n",
      " 2   postcode            3999 non-null   int64 \n",
      " 3   state               3999 non-null   object\n",
      " 4   country             3999 non-null   object\n",
      " 5   property_valuation  3999 non-null   int64 \n",
      "dtypes: int64(3), object(3)\n",
      "memory usage: 187.6+ KB\n"
     ]
    }
   ],
   "source": [
    "# checking the data\n",
    "print(\"The shape of data->\",Customer_Address.shape)\n",
    "print()\n",
    "Customer_Address.info()"
   ]
  },
  {
   "cell_type": "markdown",
   "id": "4e90f7f2",
   "metadata": {},
   "source": [
    "#### Initially there is 3999 rows and 6 coloumn"
   ]
  },
  {
   "cell_type": "code",
   "execution_count": 15,
   "id": "8dc75216",
   "metadata": {},
   "outputs": [
    {
     "data": {
      "text/plain": [
       "customer_id           0\n",
       "address               0\n",
       "postcode              0\n",
       "state                 0\n",
       "country               0\n",
       "property_valuation    0\n",
       "dtype: int64"
      ]
     },
     "execution_count": 15,
     "metadata": {},
     "output_type": "execute_result"
    }
   ],
   "source": [
    "# checking the null values\n",
    "Customer_Address.isnull().sum()"
   ]
  },
  {
   "cell_type": "markdown",
   "id": "c6e0d4eb",
   "metadata": {},
   "source": [
    "#### There is no null values in data set."
   ]
  },
  {
   "cell_type": "markdown",
   "id": "723265f3",
   "metadata": {},
   "source": [
    "#### We can  change all data value into one case "
   ]
  },
  {
   "cell_type": "markdown",
   "id": "f391034f",
   "metadata": {},
   "source": [
    "#### we can use change_upper fuction changing the data values to upper case\n",
    "*so there is consistency in the records*"
   ]
  },
  {
   "cell_type": "markdown",
   "id": "65122a86",
   "metadata": {},
   "source": [
    "#### Checking the duplicate values"
   ]
  },
  {
   "cell_type": "code",
   "execution_count": 18,
   "id": "3443ef31",
   "metadata": {},
   "outputs": [
    {
     "data": {
      "text/plain": [
       "0"
      ]
     },
     "execution_count": 18,
     "metadata": {},
     "output_type": "execute_result"
    }
   ],
   "source": [
    "Customer_Address.duplicated().sum()"
   ]
  },
  {
   "cell_type": "markdown",
   "id": "248fdfcd",
   "metadata": {},
   "source": [
    "#### There is no duplicate records present in the data set.\n",
    "*so all records are unique.*"
   ]
  },
  {
   "cell_type": "markdown",
   "id": "5e371f3a",
   "metadata": {},
   "source": [
    "### Exploring coloumns"
   ]
  },
  {
   "cell_type": "markdown",
   "id": "a545a6f1",
   "metadata": {},
   "source": [
    "#### Generate a summary of count of all the outliers column wise"
   ]
  },
  {
   "cell_type": "code",
   "execution_count": 19,
   "id": "de415040",
   "metadata": {},
   "outputs": [
    {
     "name": "stdout",
     "output_type": "stream",
     "text": [
      "the no. of outlier in customer_id is:\n",
      "0\n",
      "the no. of outlier in postcode is:\n",
      "0\n",
      "the no. of outlier in property_valuation is:\n",
      "0\n"
     ]
    }
   ],
   "source": [
    "for column in Customer_Address:\n",
    "    if Customer_Address[column].dtype=='int64' or Customer_Address[column].dtype=='float64':\n",
    "        outliers=detect_outliers_iqr(Customer_Address,column)\n",
    "        print(f\"the no. of outlier in {column} is:\")\n",
    "        print(outliers[column].count())"
   ]
  },
  {
   "cell_type": "markdown",
   "id": "eded786e",
   "metadata": {},
   "source": [
    "#### There is no outlier found in customer address data set"
   ]
  },
  {
   "cell_type": "markdown",
   "id": "91b0be8c",
   "metadata": {},
   "source": [
    "#### Checking the categorical columns , if there is different entry or values indiacating same category then change it as one category"
   ]
  },
  {
   "cell_type": "code",
   "execution_count": 27,
   "id": "aacc9a58",
   "metadata": {},
   "outputs": [
    {
     "data": {
      "text/plain": [
       "array(['New South Wales', 'QLD', 'VIC', 'NSW', 'Victoria'], dtype=object)"
      ]
     },
     "execution_count": 27,
     "metadata": {},
     "output_type": "execute_result"
    }
   ],
   "source": [
    "Customer_Address[\"state\"].unique()"
   ]
  },
  {
   "cell_type": "markdown",
   "id": "74210adb",
   "metadata": {},
   "source": [
    "#### As per state column , \"New South Wales\" or 'NSW' and \"Victoria\" or 'VIC' is same. So we can cange the as 'NSW' and ' VIC'."
   ]
  },
  {
   "cell_type": "code",
   "execution_count": 28,
   "id": "ee31d35e",
   "metadata": {},
   "outputs": [
    {
     "data": {
      "text/plain": [
       "array(['Australia'], dtype=object)"
      ]
     },
     "execution_count": 28,
     "metadata": {},
     "output_type": "execute_result"
    }
   ],
   "source": [
    "Customer_Address[\"country\"].unique()"
   ]
  }
 ],
 "metadata": {
  "kernelspec": {
   "display_name": "Python 3 (ipykernel)",
   "language": "python",
   "name": "python3"
  },
  "language_info": {
   "codemirror_mode": {
    "name": "ipython",
    "version": 3
   },
   "file_extension": ".py",
   "mimetype": "text/x-python",
   "name": "python",
   "nbconvert_exporter": "python",
   "pygments_lexer": "ipython3",
   "version": "3.10.9"
  }
 },
 "nbformat": 4,
 "nbformat_minor": 5
}
