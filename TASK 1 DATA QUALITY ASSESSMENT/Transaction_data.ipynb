{
 "cells": [
  {
   "cell_type": "markdown",
   "id": "1539bcca",
   "metadata": {},
   "source": [
    "# TASK: 1 - Data Quality Assessment\n",
    "### Assessment of data quality and completeness in preparation for analysis.\n",
    "(**Transactions data in the past 3 months**)"
   ]
  },
  {
   "cell_type": "code",
   "execution_count": 11,
   "id": "b1f50896",
   "metadata": {},
   "outputs": [],
   "source": [
    "# importing required libraries \n",
    "import pandas as pd\n",
    "import numpy as np\n",
    "import datetime as dt"
   ]
  },
  {
   "cell_type": "markdown",
   "id": "b7797bfb",
   "metadata": {},
   "source": [
    "### Reading data"
   ]
  },
  {
   "cell_type": "code",
   "execution_count": 12,
   "id": "fac4e773",
   "metadata": {},
   "outputs": [],
   "source": [
    "import os\n",
    "file_name = 'KPMG_VI_New_raw_data_update_final.xlsx'\n",
    "\n",
    "# Get the current working directory\n",
    "current_directory = os.getcwd()\n",
    "\n",
    "# Create the complete file path by joining the directory and file name\n",
    "file_path = os.path.join(current_directory, file_name)\n",
    "# importing data from \"Transactions\" sheet\n",
    "transactions=pd.read_excel(file_path,sheet_name=\"Transactions\")"
   ]
  },
  {
   "cell_type": "markdown",
   "id": "d469369c",
   "metadata": {},
   "source": [
    "### Exploring transaction data"
   ]
  },
  {
   "cell_type": "code",
   "execution_count": 13,
   "id": "34bc6c95",
   "metadata": {},
   "outputs": [
    {
     "data": {
      "text/html": [
       "<div>\n",
       "<style scoped>\n",
       "    .dataframe tbody tr th:only-of-type {\n",
       "        vertical-align: middle;\n",
       "    }\n",
       "\n",
       "    .dataframe tbody tr th {\n",
       "        vertical-align: top;\n",
       "    }\n",
       "\n",
       "    .dataframe thead th {\n",
       "        text-align: right;\n",
       "    }\n",
       "</style>\n",
       "<table border=\"1\" class=\"dataframe\">\n",
       "  <thead>\n",
       "    <tr style=\"text-align: right;\">\n",
       "      <th></th>\n",
       "      <th>transaction_id</th>\n",
       "      <th>product_id</th>\n",
       "      <th>customer_id</th>\n",
       "      <th>transaction_date</th>\n",
       "      <th>online_order</th>\n",
       "      <th>order_status</th>\n",
       "      <th>brand</th>\n",
       "      <th>product_line</th>\n",
       "      <th>product_class</th>\n",
       "      <th>product_size</th>\n",
       "      <th>list_price</th>\n",
       "      <th>standard_cost</th>\n",
       "      <th>product_first_sold_date</th>\n",
       "    </tr>\n",
       "  </thead>\n",
       "  <tbody>\n",
       "    <tr>\n",
       "      <th>0</th>\n",
       "      <td>1</td>\n",
       "      <td>2</td>\n",
       "      <td>2950</td>\n",
       "      <td>2017-02-25</td>\n",
       "      <td>0.0</td>\n",
       "      <td>Approved</td>\n",
       "      <td>Solex</td>\n",
       "      <td>Standard</td>\n",
       "      <td>medium</td>\n",
       "      <td>medium</td>\n",
       "      <td>71.49</td>\n",
       "      <td>53.62</td>\n",
       "      <td>41245.0</td>\n",
       "    </tr>\n",
       "    <tr>\n",
       "      <th>1</th>\n",
       "      <td>2</td>\n",
       "      <td>3</td>\n",
       "      <td>3120</td>\n",
       "      <td>2017-05-21</td>\n",
       "      <td>1.0</td>\n",
       "      <td>Approved</td>\n",
       "      <td>Trek Bicycles</td>\n",
       "      <td>Standard</td>\n",
       "      <td>medium</td>\n",
       "      <td>large</td>\n",
       "      <td>2091.47</td>\n",
       "      <td>388.92</td>\n",
       "      <td>41701.0</td>\n",
       "    </tr>\n",
       "    <tr>\n",
       "      <th>2</th>\n",
       "      <td>3</td>\n",
       "      <td>37</td>\n",
       "      <td>402</td>\n",
       "      <td>2017-10-16</td>\n",
       "      <td>0.0</td>\n",
       "      <td>Approved</td>\n",
       "      <td>OHM Cycles</td>\n",
       "      <td>Standard</td>\n",
       "      <td>low</td>\n",
       "      <td>medium</td>\n",
       "      <td>1793.43</td>\n",
       "      <td>248.82</td>\n",
       "      <td>36361.0</td>\n",
       "    </tr>\n",
       "    <tr>\n",
       "      <th>3</th>\n",
       "      <td>4</td>\n",
       "      <td>88</td>\n",
       "      <td>3135</td>\n",
       "      <td>2017-08-31</td>\n",
       "      <td>0.0</td>\n",
       "      <td>Approved</td>\n",
       "      <td>Norco Bicycles</td>\n",
       "      <td>Standard</td>\n",
       "      <td>medium</td>\n",
       "      <td>medium</td>\n",
       "      <td>1198.46</td>\n",
       "      <td>381.10</td>\n",
       "      <td>36145.0</td>\n",
       "    </tr>\n",
       "    <tr>\n",
       "      <th>4</th>\n",
       "      <td>5</td>\n",
       "      <td>78</td>\n",
       "      <td>787</td>\n",
       "      <td>2017-10-01</td>\n",
       "      <td>1.0</td>\n",
       "      <td>Approved</td>\n",
       "      <td>Giant Bicycles</td>\n",
       "      <td>Standard</td>\n",
       "      <td>medium</td>\n",
       "      <td>large</td>\n",
       "      <td>1765.30</td>\n",
       "      <td>709.48</td>\n",
       "      <td>42226.0</td>\n",
       "    </tr>\n",
       "  </tbody>\n",
       "</table>\n",
       "</div>"
      ],
      "text/plain": [
       "   transaction_id  product_id  customer_id transaction_date  online_order  \\\n",
       "0               1           2         2950       2017-02-25           0.0   \n",
       "1               2           3         3120       2017-05-21           1.0   \n",
       "2               3          37          402       2017-10-16           0.0   \n",
       "3               4          88         3135       2017-08-31           0.0   \n",
       "4               5          78          787       2017-10-01           1.0   \n",
       "\n",
       "  order_status           brand product_line product_class product_size  \\\n",
       "0     Approved           Solex     Standard        medium       medium   \n",
       "1     Approved   Trek Bicycles     Standard        medium        large   \n",
       "2     Approved      OHM Cycles     Standard           low       medium   \n",
       "3     Approved  Norco Bicycles     Standard        medium       medium   \n",
       "4     Approved  Giant Bicycles     Standard        medium        large   \n",
       "\n",
       "   list_price  standard_cost  product_first_sold_date  \n",
       "0       71.49          53.62                  41245.0  \n",
       "1     2091.47         388.92                  41701.0  \n",
       "2     1793.43         248.82                  36361.0  \n",
       "3     1198.46         381.10                  36145.0  \n",
       "4     1765.30         709.48                  42226.0  "
      ]
     },
     "execution_count": 13,
     "metadata": {},
     "output_type": "execute_result"
    }
   ],
   "source": [
    "transactions.head(5)"
   ]
  },
  {
   "cell_type": "code",
   "execution_count": 14,
   "id": "06bed59c",
   "metadata": {},
   "outputs": [
    {
     "name": "stdout",
     "output_type": "stream",
     "text": [
      "The shape of data-> (20000, 13)\n",
      "\n",
      "<class 'pandas.core.frame.DataFrame'>\n",
      "RangeIndex: 20000 entries, 0 to 19999\n",
      "Data columns (total 13 columns):\n",
      " #   Column                   Non-Null Count  Dtype         \n",
      "---  ------                   --------------  -----         \n",
      " 0   transaction_id           20000 non-null  int64         \n",
      " 1   product_id               20000 non-null  int64         \n",
      " 2   customer_id              20000 non-null  int64         \n",
      " 3   transaction_date         20000 non-null  datetime64[ns]\n",
      " 4   online_order             19640 non-null  float64       \n",
      " 5   order_status             20000 non-null  object        \n",
      " 6   brand                    19803 non-null  object        \n",
      " 7   product_line             19803 non-null  object        \n",
      " 8   product_class            19803 non-null  object        \n",
      " 9   product_size             19803 non-null  object        \n",
      " 10  list_price               20000 non-null  float64       \n",
      " 11  standard_cost            19803 non-null  float64       \n",
      " 12  product_first_sold_date  19803 non-null  float64       \n",
      "dtypes: datetime64[ns](1), float64(4), int64(3), object(5)\n",
      "memory usage: 2.0+ MB\n"
     ]
    }
   ],
   "source": [
    "# checking the data\n",
    "print(\"The shape of data->\",transactions.shape)\n",
    "print()\n",
    "transactions.info()"
   ]
  },
  {
   "cell_type": "markdown",
   "id": "7a2b2973",
   "metadata": {},
   "source": [
    "#### Initially there is 20000 rows and 13 coloumn"
   ]
  },
  {
   "cell_type": "code",
   "execution_count": 15,
   "id": "a6a24243",
   "metadata": {},
   "outputs": [
    {
     "data": {
      "text/plain": [
       "transaction_id               0\n",
       "product_id                   0\n",
       "customer_id                  0\n",
       "transaction_date             0\n",
       "online_order               360\n",
       "order_status                 0\n",
       "brand                      197\n",
       "product_line               197\n",
       "product_class              197\n",
       "product_size               197\n",
       "list_price                   0\n",
       "standard_cost              197\n",
       "product_first_sold_date    197\n",
       "dtype: int64"
      ]
     },
     "execution_count": 15,
     "metadata": {},
     "output_type": "execute_result"
    }
   ],
   "source": [
    "# checking the null values\n",
    "transactions.isnull().sum()"
   ]
  },
  {
   "cell_type": "markdown",
   "id": "add618fa",
   "metadata": {},
   "source": [
    "#### There is null values in 7 coloumns.We can drop them or replace them accroding to the nature of analysis or data trend.\n",
    "*Such as we can replace the null values of the \"standard_cost\" column as per the overall standard cost of this particular product_id , so we can raplace them with the mean of standard_cost of particular product_id.*\n",
    "\n",
    "*Although we prefer to replace the values of numerical column only , there no need to replacs the null values of categorical & identical column.*"
   ]
  },
  {
   "cell_type": "markdown",
   "id": "6b93c347",
   "metadata": {},
   "source": [
    "#### We can  change all data value into one case "
   ]
  },
  {
   "cell_type": "code",
   "execution_count": 16,
   "id": "3888e564",
   "metadata": {},
   "outputs": [],
   "source": [
    "def change_upper(df):\n",
    "    for column in df.columns:\n",
    "        if df[column].dtype=='object':\n",
    "            df[column] = df[column].str.upper()\n",
    "    return df"
   ]
  },
  {
   "cell_type": "markdown",
   "id": "f6db0c47",
   "metadata": {},
   "source": [
    "#### we can use change_upper fuction changing the data values to upper case\n",
    "*so there is consistency in the records*"
   ]
  },
  {
   "cell_type": "markdown",
   "id": "c16f0640",
   "metadata": {},
   "source": [
    "#### Checking the duplicate values"
   ]
  },
  {
   "cell_type": "code",
   "execution_count": 17,
   "id": "65349081",
   "metadata": {},
   "outputs": [
    {
     "data": {
      "text/plain": [
       "0"
      ]
     },
     "execution_count": 17,
     "metadata": {},
     "output_type": "execute_result"
    }
   ],
   "source": [
    "transactions.duplicated().sum()"
   ]
  },
  {
   "cell_type": "markdown",
   "id": "adab6ea1",
   "metadata": {},
   "source": [
    "#### There is no duplicate records present in the data set.\n",
    "*so all records are unique.*"
   ]
  },
  {
   "cell_type": "markdown",
   "id": "fdd8d477",
   "metadata": {},
   "source": [
    "### Exploring coloumns"
   ]
  },
  {
   "cell_type": "markdown",
   "id": "9737cae3",
   "metadata": {},
   "source": [
    "#### Generate a summary of count of all the outliers column wise"
   ]
  },
  {
   "cell_type": "code",
   "execution_count": 18,
   "id": "a0970f55",
   "metadata": {},
   "outputs": [],
   "source": [
    "def detect_outliers_iqr(dataframe,column_name):\n",
    "    # Calculate quartiles\n",
    "    Q1 = dataframe[column_name].quantile(0.25)\n",
    "    Q3 = dataframe[column_name].quantile(0.75)\n",
    "    \n",
    "    # Calculate IQR\n",
    "    IQR = Q3 - Q1\n",
    "    \n",
    "    # Calculate lower and upper bounds\n",
    "    lower_bound = Q1 - 1.5 * IQR\n",
    "    upper_bound = Q3 + 1.5 * IQR\n",
    "    \n",
    "    # Find outliers\n",
    "    outliers = dataframe[(dataframe[column_name] < lower_bound) | (dataframe[column_name] > upper_bound)]\n",
    "    \n",
    "    return outliers"
   ]
  },
  {
   "cell_type": "code",
   "execution_count": 19,
   "id": "a23b045a",
   "metadata": {},
   "outputs": [
    {
     "name": "stdout",
     "output_type": "stream",
     "text": [
      "the no. of outlier in transaction_id is:\n",
      "0\n",
      "the no. of outlier in product_id is:\n",
      "0\n",
      "the no. of outlier in customer_id is:\n",
      "0\n",
      "the no. of outlier in online_order is:\n",
      "0\n",
      "the no. of outlier in list_price is:\n",
      "0\n",
      "the no. of outlier in standard_cost is:\n",
      "195\n",
      "the no. of outlier in product_first_sold_date is:\n",
      "0\n"
     ]
    }
   ],
   "source": [
    "for column in transactions:\n",
    "    if transactions[column].dtype=='int64' or transactions[column].dtype=='float64':\n",
    "        outliers=detect_outliers_iqr(transactions,column)\n",
    "        print(f\"the no. of outlier in {column} is:\")\n",
    "        print(outliers[column].count())"
   ]
  },
  {
   "cell_type": "markdown",
   "id": "235943b7",
   "metadata": {},
   "source": [
    "#### standard_cost coloumn 195 outliers.\n",
    "*so we can replace the outliers by mean of standard cost of that particular product*"
   ]
  },
  {
   "cell_type": "markdown",
   "id": "c0be852b",
   "metadata": {},
   "source": [
    "#### Checking the categorical columns , if there is different entry or values indiacating same category then change it as one category"
   ]
  },
  {
   "cell_type": "code",
   "execution_count": 20,
   "id": "a7c769ef",
   "metadata": {},
   "outputs": [
    {
     "data": {
      "text/plain": [
       "array([ 0.,  1., nan])"
      ]
     },
     "execution_count": 20,
     "metadata": {},
     "output_type": "execute_result"
    }
   ],
   "source": [
    "transactions[\"online_order\"].unique()"
   ]
  },
  {
   "cell_type": "code",
   "execution_count": 21,
   "id": "b196c0c1",
   "metadata": {},
   "outputs": [
    {
     "data": {
      "text/plain": [
       "array(['Approved', 'Cancelled'], dtype=object)"
      ]
     },
     "execution_count": 21,
     "metadata": {},
     "output_type": "execute_result"
    }
   ],
   "source": [
    "transactions[\"order_status\"].unique()"
   ]
  },
  {
   "cell_type": "code",
   "execution_count": 22,
   "id": "2d6f84aa",
   "metadata": {},
   "outputs": [
    {
     "data": {
      "text/plain": [
       "array(['Solex', 'Trek Bicycles', 'OHM Cycles', 'Norco Bicycles',\n",
       "       'Giant Bicycles', 'WeareA2B', nan], dtype=object)"
      ]
     },
     "execution_count": 22,
     "metadata": {},
     "output_type": "execute_result"
    }
   ],
   "source": [
    "transactions[\"brand\"].unique()"
   ]
  },
  {
   "cell_type": "code",
   "execution_count": 23,
   "id": "e34c0a52",
   "metadata": {},
   "outputs": [
    {
     "data": {
      "text/plain": [
       "array(['Standard', 'Road', 'Mountain', 'Touring', nan], dtype=object)"
      ]
     },
     "execution_count": 23,
     "metadata": {},
     "output_type": "execute_result"
    }
   ],
   "source": [
    "transactions[\"product_line\"].unique()"
   ]
  },
  {
   "cell_type": "code",
   "execution_count": 24,
   "id": "2a0b8740",
   "metadata": {},
   "outputs": [
    {
     "data": {
      "text/plain": [
       "array(['medium', 'low', 'high', nan], dtype=object)"
      ]
     },
     "execution_count": 24,
     "metadata": {},
     "output_type": "execute_result"
    }
   ],
   "source": [
    "transactions[\"product_class\"].unique()"
   ]
  },
  {
   "cell_type": "code",
   "execution_count": 25,
   "id": "96d9bc4e",
   "metadata": {
    "scrolled": true
   },
   "outputs": [
    {
     "data": {
      "text/plain": [
       "array(['medium', 'large', 'small', nan], dtype=object)"
      ]
     },
     "execution_count": 25,
     "metadata": {},
     "output_type": "execute_result"
    }
   ],
   "source": [
    "transactions[\"product_size\"].unique()"
   ]
  },
  {
   "cell_type": "markdown",
   "id": "b16e7809",
   "metadata": {},
   "source": [
    "#### There is no such data that contradict the values of categorical columns.\n",
    "*there is some null value as we saw earlier*"
   ]
  },
  {
   "cell_type": "markdown",
   "id": "76aa3b48",
   "metadata": {},
   "source": [
    "#### As per data given there is wrong data fetched in \"product_first_sold_date\" column\n",
    "*column must be in date format*"
   ]
  },
  {
   "cell_type": "code",
   "execution_count": 26,
   "id": "a048a262",
   "metadata": {},
   "outputs": [
    {
     "data": {
      "text/plain": [
       "0       2012-12-04\n",
       "1       2014-03-05\n",
       "2       1999-07-22\n",
       "3       1998-12-18\n",
       "4       2015-08-12\n",
       "           ...    \n",
       "19995   2003-07-23\n",
       "19996   1997-05-12\n",
       "19997   2010-08-22\n",
       "19998   2004-08-19\n",
       "19999   1999-06-25\n",
       "Name: product_first_sold_date, Length: 20000, dtype: datetime64[ns]"
      ]
     },
     "execution_count": 26,
     "metadata": {},
     "output_type": "execute_result"
    }
   ],
   "source": [
    "transactions[\"product_first_sold_date\"]=pd.TimedeltaIndex(transactions[\"product_first_sold_date\"],unit='d')+dt.datetime(1900,1,1)\n",
    "transactions[\"product_first_sold_date\"]"
   ]
  },
  {
   "cell_type": "markdown",
   "id": "74192959",
   "metadata": {},
   "source": [
    "#### So change the column value into proper format for proper analysis"
   ]
  },
  {
   "cell_type": "code",
   "execution_count": null,
   "id": "ae29eb37",
   "metadata": {},
   "outputs": [],
   "source": []
  }
 ],
 "metadata": {
  "kernelspec": {
   "display_name": "Python 3 (ipykernel)",
   "language": "python",
   "name": "python3"
  },
  "language_info": {
   "codemirror_mode": {
    "name": "ipython",
    "version": 3
   },
   "file_extension": ".py",
   "mimetype": "text/x-python",
   "name": "python",
   "nbconvert_exporter": "python",
   "pygments_lexer": "ipython3",
   "version": "3.10.9"
  }
 },
 "nbformat": 4,
 "nbformat_minor": 5
}
